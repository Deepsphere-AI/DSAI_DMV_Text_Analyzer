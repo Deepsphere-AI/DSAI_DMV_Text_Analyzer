{
 "cells": [
  {
   "cell_type": "code",
   "execution_count": 1,
   "id": "0932d9e0-8ac3-4d3d-a48b-80a35f0eadca",
   "metadata": {},
   "outputs": [],
   "source": [
    "def detect_text_uri(uri):\n",
    "    \"\"\"Detects text in the file located in Google Cloud Storage or on the Web.\n",
    "    \"\"\"\n",
    "    from google.cloud import vision\n",
    "    from google.cloud.vision import types\n",
    "    client = vision.ImageAnnotatorClient()\n",
    "    image = types.Image()\n",
    "    image.source.image_uri = uri\n",
    "\n",
    "    response = client.text_detection(image=image)\n",
    "    texts = response.text_annotations\n",
    "\n",
    "    for text in texts:\n",
    "        print('\\n\"{}\"'.format(text.description))\n",
    "\n",
    "        vertices = (['({},{})'.format(vertex.x, vertex.y)\n",
    "                    for vertex in text.bounding_poly.vertices])\n",
    "\n",
    "        print('bounds: {}'.format(','.join(vertices)))\n",
    "\n",
    "    if response.error.message:\n",
    "        raise Exception(\n",
    "            '{}\\nFor more info on error messages, check: '\n",
    "            'https://cloud.google.com/apis/design/errors'.format(\n",
    "                response.error.message))"
   ]
  },
  {
   "cell_type": "code",
   "execution_count": 2,
   "id": "44a89152-635a-4866-9736-96e161298352",
   "metadata": {},
   "outputs": [
    {
     "name": "stdout",
     "output_type": "stream",
     "text": [
      "\n",
      "\"AUG California\n",
      "2012\n",
      "6TRJ244\n",
      "dmv.ca.gov\n",
      "\"\n",
      "bounds: (18,8),(297,8),(297,150),(18,150)\n",
      "\n",
      "\"AUG\"\n",
      "bounds: (19,13),(57,14),(56,35),(18,34)\n",
      "\n",
      "\"California\"\n",
      "bounds: (69,8),(266,15),(264,62),(67,55)\n",
      "\n",
      "\"2012\"\n",
      "bounds: (264,17),(297,18),(297,29),(264,28)\n",
      "\n",
      "\"6TRJ244\"\n",
      "bounds: (24,52),(295,52),(295,141),(24,141)\n",
      "\n",
      "\"dmv.ca.gov\"\n",
      "bounds: (80,138),(238,139),(238,150),(80,149)\n"
     ]
    }
   ],
   "source": [
    "detect_text_uri(uri)"
   ]
  },
  {
   "cell_type": "code",
   "execution_count": 3,
   "id": "5fee995d-e65c-43d7-8e7f-62cabbc36dba",
   "metadata": {},
   "outputs": [],
   "source": [
    "# remove text word with \n",
    "#     - california\n",
    "#     - text with dot(.)"
   ]
  },
  {
   "cell_type": "code",
   "execution_count": null,
   "id": "1bd712e3-d75f-4db2-9260-8751dfedfb1f",
   "metadata": {},
   "outputs": [],
   "source": []
  }
 ],
 "metadata": {
  "environment": {
   "kernel": "python3",
   "name": "common-cpu.m87",
   "type": "gcloud",
   "uri": "gcr.io/deeplearning-platform-release/base-cpu:m87"
  },
  "kernelspec": {
   "display_name": "Python 3",
   "language": "python",
   "name": "python3"
  },
  "language_info": {
   "codemirror_mode": {
    "name": "ipython",
    "version": 3
   },
   "file_extension": ".py",
   "mimetype": "text/x-python",
   "name": "python",
   "nbconvert_exporter": "python",
   "pygments_lexer": "ipython3",
   "version": "3.7.12"
  }
 },
 "nbformat": 4,
 "nbformat_minor": 5
}
